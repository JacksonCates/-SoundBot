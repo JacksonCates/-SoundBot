{
 "cells": [
  {
   "cell_type": "code",
   "execution_count": 4,
   "metadata": {},
   "outputs": [
    {
     "name": "stdout",
     "output_type": "stream",
     "text": [
      "localhost\n"
     ]
    }
   ],
   "source": [
    "import pyodbc\n",
    "import os\n",
    "from dotenv import load_dotenv\n",
    "\n",
    "load_dotenv()\n",
    "BOT_TOKEN = os.getenv('BOT_TOKEN')\n",
    "SQL_USER = os.getenv('SQL_USER')\n",
    "SQL_PASS = os.getenv('SQL_PASS')\n",
    "SQL_SERVER = os.getenv('SQL_SERVER')\n",
    "SQL_DATABASE = os.getenv('SQL_DATABASE')\n",
    "MP3_DIR = os.getenv('MP3_DIR')\n",
    "\n",
    "print(SQL_SERVER)\n",
    "\n",
    "conn = pyodbc.connect('DRIVER={SQL Server};SERVER=' + SQL_SERVER + ';DATABASE=' + SQL_DATABASE + ';UID=' + SQL_USER + ';PWD=' + SQL_PASS)"
   ]
  },
  {
   "cell_type": "code",
   "execution_count": 5,
   "metadata": {},
   "outputs": [
    {
     "ename": "NameError",
     "evalue": "name 'YouTube' is not defined",
     "output_type": "error",
     "traceback": [
      "\u001b[1;31m---------------------------------------------------------------------------\u001b[0m",
      "\u001b[1;31mNameError\u001b[0m                                 Traceback (most recent call last)",
      "\u001b[1;32mk:\\repos\\SoundboardDiscordBot\\test.ipynb Cell 2\u001b[0m line \u001b[0;36m1\n\u001b[1;32m----> <a href='vscode-notebook-cell:/k%3A/repos/SoundboardDiscordBot/test.ipynb#W2sZmlsZQ%3D%3D?line=0'>1</a>\u001b[0m yt \u001b[39m=\u001b[39m YouTube(url, use_oauth\u001b[39m=\u001b[39m\u001b[39mTrue\u001b[39;00m, allow_oauth_cache\u001b[39m=\u001b[39m\u001b[39mTrue\u001b[39;00m) \n",
      "\u001b[1;31mNameError\u001b[0m: name 'YouTube' is not defined"
     ]
    }
   ],
   "source": [
    "from pytube import YouTube\n",
    "yt = YouTube(\"https://www.youtube.com/watch?v=eEYbgUS4bhs\", use_oauth=True, allow_oauth_cache=True) "
   ]
  }
 ],
 "metadata": {
  "kernelspec": {
   "display_name": "Python 3",
   "language": "python",
   "name": "python3"
  },
  "language_info": {
   "codemirror_mode": {
    "name": "ipython",
    "version": 3
   },
   "file_extension": ".py",
   "mimetype": "text/x-python",
   "name": "python",
   "nbconvert_exporter": "python",
   "pygments_lexer": "ipython3",
   "version": "3.11.5"
  },
  "orig_nbformat": 4
 },
 "nbformat": 4,
 "nbformat_minor": 2
}
